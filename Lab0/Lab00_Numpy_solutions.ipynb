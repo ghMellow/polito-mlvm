{
  "nbformat": 4,
  "nbformat_minor": 0,
  "metadata": {
    "colab": {
      "name": "Lab01_Numpy_solutions.ipynb",
      "provenance": [],
      "collapsed_sections": []
    },
    "kernelspec": {
      "name": "python3",
      "display_name": "Python 3"
    }
  },
  "cells": [
    {
      "cell_type": "code",
      "metadata": {
        "id": "NNqvKLPtgiVh",
        "colab": {
          "base_uri": "https://localhost:8080/"
        },
        "outputId": "bbfc2824-359e-45e8-f97c-e56581d21030"
      },
      "source": [
        "import numpy as np\n",
        "print(np.__version__)"
      ],
      "execution_count": 1,
      "outputs": [
        {
          "output_type": "stream",
          "name": "stdout",
          "text": [
            "1.19.5\n"
          ]
        }
      ]
    },
    {
      "cell_type": "markdown",
      "metadata": {
        "id": "CD5WxKAheGux"
      },
      "source": [
        "Numpy provides many functions to **create** arrays\n"
      ]
    },
    {
      "cell_type": "code",
      "metadata": {
        "id": "qIjpmiLyeN2r",
        "colab": {
          "base_uri": "https://localhost:8080/"
        },
        "outputId": "91f76d2c-5528-476c-957f-4145dcbcd744"
      },
      "source": [
        "a = np.zeros((2,2))   # Create an array of all zeros\n",
        "print(a)              # Prints \"[[ 0.  0.]\n",
        "                      #          [ 0.  0.]]\"\n",
        "\n",
        "b = np.ones((1,2))    # Create an array of all ones\n",
        "print(b)              # Prints \"[[ 1.  1.]]\"\n",
        "\n",
        "c = np.full((2,2), 7)  # Create a constant array\n",
        "print(c)               # Prints \"[[ 7.  7.]\n",
        "                       #          [ 7.  7.]]\"\n",
        "\n",
        "d = np.eye(2)         # Create a 2x2 identity matrix\n",
        "print(d)              # Prints \"[[ 1.  0.]\n",
        "                      #          [ 0.  1.]]\"\n",
        "\n",
        "e = np.random.random((2,2))  # Create an array filled with random values\n",
        "print(e)                     "
      ],
      "execution_count": 2,
      "outputs": [
        {
          "output_type": "stream",
          "name": "stdout",
          "text": [
            "[[0. 0.]\n",
            " [0. 0.]]\n",
            "[[1. 1.]]\n",
            "[[7 7]\n",
            " [7 7]]\n",
            "[[1. 0.]\n",
            " [0. 1.]]\n",
            "[[0.98544842 0.92327474]\n",
            " [0.32585606 0.4265788 ]]\n"
          ]
        }
      ]
    },
    {
      "cell_type": "markdown",
      "metadata": {
        "id": "_k1xE_86eU0V"
      },
      "source": [
        "\n",
        "**Slicing:** In addition to accessing list elements one at a time, Python provides concise syntax to access sublists; this is known as slicing.\n"
      ]
    },
    {
      "cell_type": "code",
      "metadata": {
        "id": "q4_WveyPec6S",
        "colab": {
          "base_uri": "https://localhost:8080/"
        },
        "outputId": "7d886316-ae01-493e-d7b0-227be73c8bc3"
      },
      "source": [
        "nums = list(range(5))     # range is a built-in function that creates a list of integers\n",
        "nums = np.array(nums)     # convert python list to numpy array\n",
        "print(nums)               # Prints \"[0, 1, 2, 3, 4]\"\n",
        "print(nums[2:4])          # Get a slice from index 2 to 4 (exclusive); prints \"[2, 3]\"\n",
        "print(nums[2:])           # Get a slice from index 2 to the end; prints \"[2, 3, 4]\"\n",
        "print(nums[:2])           # Get a slice from the start to index 2 (exclusive); prints \"[0, 1]\"\n",
        "print(nums[:])            # Get a slice of the whole list; prints \"[0, 1, 2, 3, 4]\"\n",
        "print(nums[:-1])          # Slice indices can be negative; prints \"[0, 1, 2, 3]\"\n",
        "nums[2:4] = [8, 9]        # Create a new sub-array\n",
        "print(nums)  \n",
        "print(nums.shape) "
      ],
      "execution_count": 3,
      "outputs": [
        {
          "output_type": "stream",
          "name": "stdout",
          "text": [
            "[0 1 2 3 4]\n",
            "[2 3]\n",
            "[2 3 4]\n",
            "[0 1]\n",
            "[0 1 2 3 4]\n",
            "[0 1 2 3]\n",
            "[0 1 8 9 4]\n",
            "(5,)\n"
          ]
        }
      ]
    },
    {
      "cell_type": "markdown",
      "metadata": {
        "id": "DNqN07rkd5KM"
      },
      "source": [
        "\n",
        "Let us see some examples of **Matrix** **multiplication**\n"
      ]
    },
    {
      "cell_type": "code",
      "metadata": {
        "id": "MXYMUVigdc7B"
      },
      "source": [
        "import time  # import module to calculate execution time\n"
      ],
      "execution_count": 4,
      "outputs": []
    },
    {
      "cell_type": "code",
      "metadata": {
        "id": "NPqCCIc7PL4G",
        "colab": {
          "base_uri": "https://localhost:8080/"
        },
        "outputId": "c4510af1-f1f5-428d-e685-0149fc3d948e"
      },
      "source": [
        "x = np.array([1, 0.01, 0.5, 0.78])\n",
        "w = np.array([1, 2, 3, -3])\n",
        "b = 0.5\n",
        "\n",
        "start_time = time.time()\n",
        "y = np.dot(w, x) + b  # linear regression\n",
        "end_time = time.time()\n",
        "print(y)\n",
        "print(y.shape)\n",
        "\n",
        "vec_time = end_time-start_time\n",
        "print(\"Execution time with vectorization {} seconds\".format(vec_time))"
      ],
      "execution_count": 5,
      "outputs": [
        {
          "output_type": "stream",
          "name": "stdout",
          "text": [
            "0.6799999999999999\n",
            "()\n",
            "Execution time with vectorization 0.00011229515075683594 seconds\n"
          ]
        }
      ]
    },
    {
      "cell_type": "markdown",
      "metadata": {
        "id": "7IynXQpzd4pP"
      },
      "source": [
        "The same result can be obtained with a less efficient for loop."
      ]
    },
    {
      "cell_type": "code",
      "metadata": {
        "id": "mlRc41u4d1Xz",
        "colab": {
          "base_uri": "https://localhost:8080/"
        },
        "outputId": "af3a3bf1-d3fa-4a88-fc94-33478675aa0a"
      },
      "source": [
        "start_time = time.time()\n",
        "x_n = x.shape[0]\n",
        "y = 0\n",
        "for i in range(x_n):\n",
        "   y += w[i]*x[i] + b\n",
        "end_time = time.time()\n",
        "\n",
        "print(y)\n",
        "print(y.shape)\n",
        "\n",
        "print(\"Execution time without vectorization {} seconds\".format(end_time-start_time))\n",
        "print(vec_time/(end_time-start_time))   # print the increase in execution time \n",
        "                                        # warning: for small vectors it varies a lot between runs!"
      ],
      "execution_count": 6,
      "outputs": [
        {
          "output_type": "stream",
          "name": "stdout",
          "text": [
            "2.1799999999999997\n",
            "()\n",
            "Execution time without vectorization 0.0002315044403076172 seconds\n",
            "0.4850669412976313\n"
          ]
        }
      ]
    },
    {
      "cell_type": "markdown",
      "metadata": {
        "id": "7lfoJd7QfFYY"
      },
      "source": [
        "The matmul function allow to multiply N-Dimensional arrays - the behaviour \n",
        "\n"
      ]
    },
    {
      "cell_type": "code",
      "metadata": {
        "id": "bb97wc8iUEvM",
        "colab": {
          "base_uri": "https://localhost:8080/"
        },
        "outputId": "4329b6e5-3be6-4c21-f4da-595db8f9a1b8"
      },
      "source": [
        "a = np.random.random_sample(size=(5,3))  # generate random matrix with 5 rows and 3 columns\n",
        "b = np.random.random_sample(size=(3,4))  # generate random matrix with 3 rows and 4 columns\n",
        "\n",
        "print(a)\n",
        "print(b)\n",
        "\n",
        "c = np.matmul(a,b)\n",
        "print(c)\n",
        "print(c.shape)     # prints the shape of the resulting matrix, e.g. (5,4)"
      ],
      "execution_count": 7,
      "outputs": [
        {
          "output_type": "stream",
          "name": "stdout",
          "text": [
            "[[0.95417874 0.28148844 0.96797956]\n",
            " [0.50816528 0.80104628 0.35764277]\n",
            " [0.60681103 0.93721807 0.32382408]\n",
            " [0.28466093 0.97030136 0.69923638]\n",
            " [0.38466739 0.85795615 0.73926566]]\n",
            "[[0.25941203 0.68545706 0.19906189 0.55908273]\n",
            " [0.38729626 0.79436536 0.46852769 0.17597811]\n",
            " [0.36791031 0.38702915 0.35790668 0.92139   ]]\n",
            "[[0.71267453 1.25228952 0.6682721  1.47488735]\n",
            " [0.57364688 1.12306707 0.60447144 0.75460152]\n",
            " [0.63953335 1.28576583 0.67580437 0.8025557 ]\n",
            " [0.70689484 1.2365215  0.76153957 0.97417022]\n",
            " [0.70405402 1.23132099 0.74313695 1.04719439]]\n",
            "(5, 4)\n"
          ]
        }
      ]
    },
    {
      "cell_type": "markdown",
      "metadata": {
        "id": "anDNZjvJd2Ou"
      },
      "source": [
        "\n",
        "What happens if the inner dimensions are not compatible?\n"
      ]
    },
    {
      "cell_type": "code",
      "metadata": {
        "id": "VErgI9nzfOvG",
        "colab": {
          "base_uri": "https://localhost:8080/",
          "height": 166
        },
        "outputId": "d0faa57a-3a8d-492d-8071-75c5b9265759"
      },
      "source": [
        "print(np.matmul(b, a))"
      ],
      "execution_count": 8,
      "outputs": [
        {
          "output_type": "error",
          "ename": "ValueError",
          "evalue": "ignored",
          "traceback": [
            "\u001b[0;31m---------------------------------------------------------------------------\u001b[0m",
            "\u001b[0;31mValueError\u001b[0m                                Traceback (most recent call last)",
            "\u001b[0;32m<ipython-input-8-3cf3959259a8>\u001b[0m in \u001b[0;36m<module>\u001b[0;34m()\u001b[0m\n\u001b[0;32m----> 1\u001b[0;31m \u001b[0mprint\u001b[0m\u001b[0;34m(\u001b[0m\u001b[0mnp\u001b[0m\u001b[0;34m.\u001b[0m\u001b[0mmatmul\u001b[0m\u001b[0;34m(\u001b[0m\u001b[0mb\u001b[0m\u001b[0;34m,\u001b[0m \u001b[0ma\u001b[0m\u001b[0;34m)\u001b[0m\u001b[0;34m)\u001b[0m\u001b[0;34m\u001b[0m\u001b[0;34m\u001b[0m\u001b[0m\n\u001b[0m",
            "\u001b[0;31mValueError\u001b[0m: matmul: Input operand 1 has a mismatch in its core dimension 0, with gufunc signature (n?,k),(k,m?)->(n?,m?) (size 5 is different from 4)"
          ]
        }
      ]
    },
    {
      "cell_type": "markdown",
      "metadata": {
        "id": "zUzs-FmjfdHJ"
      },
      "source": [
        "Let us see another example of how a vectorized implementation is more efficient!\n"
      ]
    },
    {
      "cell_type": "code",
      "metadata": {
        "id": "L3WRRwtQfP7j"
      },
      "source": [
        "a = np.random.random_sample((5000,))    # generate a large vector\n",
        "\n",
        "# vectorized calculation\n",
        "start_time = time.time()\n",
        "exp_a = np.exp(a)\n",
        "end_time = time.time()\n",
        "print(\"Execution time with vectorization {} seconds\".format(end_time-start_time))\n",
        "\n",
        "start_time = time.time()\n",
        "x_n = a.shape[0]\n",
        "exp_a = np.zeros(a.shape)\n",
        "for i in range(x_n):\n",
        "   exp_a[i] = np.exp(a[i])\n",
        "end_time = time.time()\n",
        "print(\"Execution time without vectorization {} seconds\".format(end_time-start_time))"
      ],
      "execution_count": null,
      "outputs": []
    },
    {
      "cell_type": "markdown",
      "metadata": {
        "id": "qjKIvoW6FAQs"
      },
      "source": [
        "**Commented exercises**\n",
        "\n",
        "The solutions included in this notebook compares different solutions for each exercise, including solutions proposed by ML4VMM students in the Academic Years 20-21 and 21-22.\n",
        "\n",
        "\n",
        "\n"
      ]
    },
    {
      "cell_type": "markdown",
      "metadata": {
        "id": "M_OZaEyI60wt"
      },
      "source": [
        "\n",
        "**Exercise 1**\n",
        "\n",
        "\n",
        "Given the amount of Carbs, Proteins, Fats in 100g of different foods, \n",
        "knowing that carbs and proteins provides 4 calories and fats 9 calories,\n",
        "calculate the % of calories from carbs, proteins and fats for each food\n"
      ]
    },
    {
      "cell_type": "code",
      "metadata": {
        "id": "G1CdeuBA7Bfm",
        "colab": {
          "base_uri": "https://localhost:8080/"
        },
        "outputId": "851d11c0-f71d-464e-ffe0-87e8ee78896c"
      },
      "source": [
        "# rows are carbs, proteins, fats\n",
        "# columns are food, one food per column\n",
        "grams = np.array([[ 27, 5.8, 41.5, 18.0 ], [ 0.7, 2.5, 8, 4 ],[ 0.2, 0.3, 1.2, 29.5 ]]) \n",
        "\n",
        "grams"
      ],
      "execution_count": 16,
      "outputs": [
        {
          "output_type": "execute_result",
          "data": {
            "text/plain": [
              "array([[27. ,  5.8, 41.5, 18. ],\n",
              "       [ 0.7,  2.5,  8. ,  4. ],\n",
              "       [ 0.2,  0.3,  1.2, 29.5]])"
            ]
          },
          "metadata": {},
          "execution_count": 16
        }
      ]
    },
    {
      "cell_type": "code",
      "metadata": {
        "id": "zXCiHU5B7a9l",
        "colab": {
          "base_uri": "https://localhost:8080/"
        },
        "outputId": "5fc476d5-eede-4648-e373-1f8d85c37e90"
      },
      "source": [
        "#insert here the solution\n",
        "a = [4, 4, 9]\n",
        "cals_gram = np.array([a])       # create array from list of list  \n",
        "print(cals_gram.shape)          # verify array has shape (1, 3)\n",
        "cals_gram = cals_gram.T        # transpose the array\n",
        "print(cals_gram.shape)          # verify array has shape (3, 1)\n",
        "\n",
        "# alternative equivalent solutions\n",
        "# cals_gram = np.array([[4],[4],[9]])  #array of shape (3,1)\n",
        "                                \n",
        "cals = grams * cals_gram        # calculate total calories. \n",
        "                                # .T transposes the matrix with final shape 3 x 1 \n",
        "                                # use broadcasting rules between 3 x 4 and 3 x 1 arrays\n",
        "print(cals)\n",
        "cals_p = cals / np.sum(cals, axis=0)     # calculates percentages\n",
        "print(np.sum(cals, axis= 0))    # print the sum of total calories per food\n",
        "print(cals_p)                   # print the final result"
      ],
      "execution_count": 27,
      "outputs": [
        {
          "output_type": "stream",
          "name": "stdout",
          "text": [
            "(1, 3)\n",
            "(3, 1)\n",
            "[[108.   23.2 166.   72. ]\n",
            " [  2.8  10.   32.   16. ]\n",
            " [  1.8   2.7  10.8 265.5]]\n",
            "[112.6  35.9 208.8 353.5]\n",
            "[[0.95914742 0.64623955 0.79501916 0.20367751]\n",
            " [0.02486679 0.27855153 0.1532567  0.04526167]\n",
            " [0.01598579 0.07520891 0.05172414 0.75106082]]\n"
          ]
        }
      ]
    },
    {
      "cell_type": "markdown",
      "metadata": {
        "id": "gnIsh0Wp7dhs"
      },
      "source": [
        "**Exercise 2**\n",
        "\n",
        "Given two 1-D arrays **x** (real values) and **y** (discreet labels), and a constant parameter *m*, calculate the vector **z** so that :"
      ]
    },
    {
      "cell_type": "markdown",
      "metadata": {
        "id": "OZRiRIL07glM"
      },
      "source": [
        "$z_i = \\bigg \\{ \\begin{matrix} \\parallel x_i \\parallel ^ 2 \\text{  if  } y_i =1 \\\\ \\parallel m - x_i \\parallel ^ 2 \\text{  if  } y_i = 0 \\end{matrix}$"
      ]
    },
    {
      "cell_type": "markdown",
      "metadata": {
        "id": "EvladBGMwdCr"
      },
      "source": [
        "This exercise shows how to implement an if statement in vectorized format"
      ]
    },
    {
      "cell_type": "code",
      "metadata": {
        "id": "JhFDaphO7oAz",
        "colab": {
          "base_uri": "https://localhost:8080/"
        },
        "outputId": "391f023b-973c-4685-bf0e-09a266f5f8b7"
      },
      "source": [
        "x = np.array([0.08444168, 0.5717077,  0.86764178, 0.2427889,  0.44898618, 0.23330771,\n",
        " 0.14876752, 0.41267104, 0.38951113, 0.60130308])\n",
        "print(x)\n",
        "y = np.array([0, 0, 1, 1, 0, 0, 0, 1, 1, 0])\n",
        "print(y)\n"
      ],
      "execution_count": 54,
      "outputs": [
        {
          "output_type": "stream",
          "name": "stdout",
          "text": [
            "[0.08444168 0.5717077  0.86764178 0.2427889  0.44898618 0.23330771\n",
            " 0.14876752 0.41267104 0.38951113 0.60130308]\n",
            "[0 0 1 1 0 0 0 1 1 0]\n"
          ]
        }
      ]
    },
    {
      "cell_type": "code",
      "metadata": {
        "id": "tcfCbuwK7_yC",
        "colab": {
          "base_uri": "https://localhost:8080/"
        },
        "outputId": "9b877dab-6abf-43dd-a377-e79943fe167a"
      },
      "source": [
        "# insert here the solution\n",
        "m = 0.2\n",
        "a = x * x                        \n",
        "b = (m - x) * (m -x)             # broadcasting will expand m to the same size of x\n",
        "\n",
        "z = y * a + (1 - y) * b          # observe that for any given binary y, only one term is non-zero\n",
        "                                 # e.g. z will be equal to a if y == 1 and viceversa\n",
        "print(z)\n",
        "\n"
      ],
      "execution_count": 55,
      "outputs": [
        {
          "output_type": "stream",
          "name": "stdout",
          "text": [
            "[0.01335373 0.13816661 0.75280226 0.05894645 0.06199412 0.0011094\n",
            " 0.00262477 0.17029739 0.15171892 0.16104416]\n"
          ]
        }
      ]
    },
    {
      "cell_type": "code",
      "metadata": {
        "id": "zCDC_0KYWTdF",
        "colab": {
          "base_uri": "https://localhost:8080/"
        },
        "outputId": "7b73b2d6-7cf5-4d8e-871a-2d5e2682aff7"
      },
      "source": [
        "# alternative (equivalent) solution\n",
        "\n",
        "z = y * x * x + (1 - y) * (m - x)* (m - x)\n",
        "print(z)"
      ],
      "execution_count": 56,
      "outputs": [
        {
          "output_type": "stream",
          "name": "stdout",
          "text": [
            "[0.01335373 0.13816661 0.75280226 0.05894645 0.06199412 0.0011094\n",
            " 0.00262477 0.17029739 0.15171892 0.16104416]\n"
          ]
        }
      ]
    },
    {
      "cell_type": "code",
      "metadata": {
        "colab": {
          "base_uri": "https://localhost:8080/"
        },
        "id": "CoCoudBHo3UR",
        "outputId": "0ac069e0-031c-4124-e786-92d20008190c"
      },
      "source": [
        "# alternative (equivalent) solution\n",
        "z = y * x * x + np.logical_not(y)*(m-x)*(m-x)   #exploit the implicit conversion 1==True, 0==False\n",
        "                                                # (1-y) is the real-valued equivalent of NOT(y)\n",
        "print(z)"
      ],
      "execution_count": 57,
      "outputs": [
        {
          "output_type": "stream",
          "name": "stdout",
          "text": [
            "[0.01335373 0.13816661 0.75280226 0.05894645 0.06199412 0.0011094\n",
            " 0.00262477 0.17029739 0.15171892 0.16104416]\n"
          ]
        }
      ]
    },
    {
      "cell_type": "code",
      "metadata": {
        "colab": {
          "base_uri": "https://localhost:8080/"
        },
        "id": "Ekqaq3lOtOOr",
        "outputId": "f8789d6f-3d0b-4f11-db84-8bb990b55b4a"
      },
      "source": [
        "# alternative solution \n",
        "# this solution is correct, but it is less general as it exploits the properties of these particular functions \n",
        "# the previous solution is more general\n",
        "m2 = (1-y) * m              # define m2 = m if y = 0, 0 if y = 1\n",
        "                            # (m-x)^2 == (x)^2 if m = 0\n",
        "z = (m2-x)*(m2-x)\n",
        "print(z)"
      ],
      "execution_count": 60,
      "outputs": [
        {
          "output_type": "stream",
          "name": "stdout",
          "text": [
            "[0.0071304  0.32684969 0.44574555 0.00183089 0.20158859 0.05443249\n",
            " 0.02213178 0.04522897 0.03591447 0.36156539]\n"
          ]
        }
      ]
    },
    {
      "cell_type": "markdown",
      "metadata": {
        "id": "aZLjiPy57m0B"
      },
      "source": [
        "**Exercise 3**\n",
        "\n",
        "Given a matrix x of size M by N, where M is the number of samples and N is the number of features, write a vectorized expression to perform min-max scaling:\n",
        "𝑥′=  (𝑥  − min⁡(𝑥))/(max⁡(𝑥)−min⁡(𝑥))\n",
        "\n"
      ]
    },
    {
      "cell_type": "code",
      "metadata": {
        "id": "8rVVP1DziTRt",
        "colab": {
          "base_uri": "https://localhost:8080/"
        },
        "outputId": "f684c278-368e-4cc0-d92d-c315174ea6bc"
      },
      "source": [
        "#  correct solution\n",
        "m = 50\n",
        "n = 10\n",
        "x = np.random.random_sample((m, n))    # generate random sample\n",
        "print(x.shape)\n",
        "print(x[0,:])                          # print first feature vector \n",
        "# Observation:\n",
        "# np.min(x, axis=0) is a vector containing the minimum value of each feature\n",
        "# np.min(x,axis=0) returns an array of size (N,) (one value per feature)\n",
        "# Recall = the 0 axis is the column axis\n",
        "x_scaled = (x - np.min(x, axis=0))/(np.max(x, axis=0) - np.min(x, axis=0))  \n",
        "print(x_scaled.shape)\n",
        "print(x_scaled[0,:])\n",
        "\n",
        "print(np.max(x_scaled, axis=0) )     # sanity check: after rescaling the range of each feature should be 0-1\n",
        "print(np.min(x_scaled, axis=0) )\n"
      ],
      "execution_count": 51,
      "outputs": [
        {
          "output_type": "stream",
          "name": "stdout",
          "text": [
            "(50, 10)\n",
            "[0.51839991 0.51907134 0.5780618  0.2585677  0.07809388 0.63781549\n",
            " 0.74473466 0.36537659 0.79383214 0.91580234]\n",
            "(50, 10)\n",
            "[0.51643032 0.53790504 0.56084653 0.25003354 0.06588717 0.63622134\n",
            " 0.77734681 0.36700955 0.78768696 0.93770451]\n",
            "[1. 1. 1. 1. 1. 1. 1. 1. 1. 1.]\n",
            "[0. 0. 0. 0. 0. 0. 0. 0. 0. 0.]\n"
          ]
        }
      ]
    },
    {
      "cell_type": "code",
      "metadata": {
        "colab": {
          "base_uri": "https://localhost:8080/"
        },
        "id": "b1FfSSHOpZEe",
        "outputId": "490937cc-056c-44e3-ef17-ba1ee37622c7"
      },
      "source": [
        "#different (BUT NOT EQUIVALENT) solution: sum along the second axis (axis = 1)\n",
        "# in this vector, each feature vector is rescaled between 0 and 1, e.g.: \n",
        "# features with large values are pushed towards 1, features with small values are pushed towards 0\n",
        "# in the correct solution, each feature is rescaled between 0 and 1 INDEPENDENTLY\n",
        "np.min(x, axis=1, keepdims=True)\n",
        "x_scaled = (x - np.min(x, axis=1, keepdims=True))/(np.max(x, axis=1, keepdims=True) - np.min(x, axis=1, keepdims=True))\n",
        "print(x_scaled.shape)\n",
        "print(x_scaled[0,:])   # notice how the recaled vector differs from the correct solution\n"
      ],
      "execution_count": 52,
      "outputs": [
        {
          "output_type": "stream",
          "name": "stdout",
          "text": [
            "(50, 10)\n",
            "[0.52560772 0.52640922 0.59682806 0.21543751 0.         0.668158\n",
            " 0.79579091 0.34293877 0.85440018 1.        ]\n"
          ]
        }
      ]
    },
    {
      "cell_type": "markdown",
      "metadata": {
        "id": "EImv8YI_h_ZJ"
      },
      "source": [
        "**Exercise 4**\n",
        "\n",
        "\n",
        "Given a 1D array, calculate the average of each consecutive triplet\n"
      ]
    },
    {
      "cell_type": "code",
      "metadata": {
        "id": "JFDqS71nigjm"
      },
      "source": [
        "x = np.array([1, 3, 5, 10, 15, 12, 23, 5, 6, 10, 10, 10])"
      ],
      "execution_count": 87,
      "outputs": []
    },
    {
      "cell_type": "code",
      "metadata": {
        "id": "RGBZqBxRZm4T",
        "colab": {
          "base_uri": "https://localhost:8080/"
        },
        "outputId": "44b0a4ec-ed91-4f36-d136-28fba696d12f"
      },
      "source": [
        "x_shape = x.shape\n",
        "if x.shape[0] % 3 != 0:\n",
        "  print(\"The lenght of the array must be multiple of 3!\")           # alternatively, we could pad the array with 0\n",
        "else:\n",
        "  \n",
        "  no_triplets =  x.shape[0] // 3                 # calculate the number of triplets\n",
        "  new_shape = (no_triplets , 3)         \n",
        "\n",
        "  x_reshaped = np.reshape(x, new_shape)          # reshape the array so that each row is a triplet\n",
        "\n",
        "  \n",
        "\n",
        "  print(x_reshaped)\n",
        "  \n",
        "  avg_x = np.mean(x_reshaped, axis=1)             # calculate the sum of each triplet (row)\n",
        "\n",
        "  print(avg_x)\n",
        "  \n",
        "\n"
      ],
      "execution_count": 80,
      "outputs": [
        {
          "output_type": "stream",
          "name": "stdout",
          "text": [
            "[[ 1  3  5]\n",
            " [10 15 12]\n",
            " [23  5  6]\n",
            " [10 10 10]]\n",
            "[ 3.         12.33333333 11.33333333 10.        ]\n"
          ]
        }
      ]
    },
    {
      "cell_type": "code",
      "metadata": {
        "id": "hJSBUIamWk3L",
        "colab": {
          "base_uri": "https://localhost:8080/"
        },
        "outputId": "ef1dd989-b621-46f0-e2f3-918c2fc9f23c"
      },
      "source": [
        "# alternative (compact) solution\n",
        "\n",
        "avg_x = np.reshape(x, (x.shape[0] // 3, 3)).mean(axis=1)\n",
        "print(avg_x)"
      ],
      "execution_count": 81,
      "outputs": [
        {
          "output_type": "stream",
          "name": "stdout",
          "text": [
            "[ 3.         12.33333333 11.33333333 10.        ]\n"
          ]
        }
      ]
    },
    {
      "cell_type": "code",
      "metadata": {
        "colab": {
          "base_uri": "https://localhost:8080/"
        },
        "id": "hE_XqKwuysVm",
        "outputId": "41a556e8-55a7-40d1-9e74-b00ce5e8638a"
      },
      "source": [
        " # alternative solution\n",
        "x_reshaped = np.reshape(x, (3, -1))    # if a dimension is unspecified (-1)\n",
        "                                       # numpy will infer it in order to be compatible with the initial shape\n",
        "print(x_reshaped)\n",
        "\n",
        "avg_x = np.mean(x_reshaped, axis=1)             # calculate the sum of each triplet (row)\n",
        "\n",
        "print(avg_x)"
      ],
      "execution_count": 82,
      "outputs": [
        {
          "output_type": "stream",
          "name": "stdout",
          "text": [
            "[[ 1  3  5 10]\n",
            " [15 12 23  5]\n",
            " [ 6 10 10 10]]\n",
            "[ 4.75 13.75  9.  ]\n"
          ]
        }
      ]
    },
    {
      "cell_type": "code",
      "metadata": {
        "colab": {
          "base_uri": "https://localhost:8080/"
        },
        "id": "zhH5hoBOzHac",
        "outputId": "0290b698-0840-40d9-d4c3-c149d1428d4b"
      },
      "source": [
        "#alternative solution\n",
        "x_reshaped= np.array_split(x, x.shape[0] // 3)     # split the array in N subarrays of equal size\n",
        "print(x_reshaped)\n",
        "\n",
        "avg_x = np.mean(x_reshaped, axis=1)             # calculate the sum of each triplet (row)\n",
        "\n",
        "print(avg_x)"
      ],
      "execution_count": 83,
      "outputs": [
        {
          "output_type": "stream",
          "name": "stdout",
          "text": [
            "[array([1, 3, 5]), array([10, 15, 12]), array([23,  5,  6]), array([10, 10, 10])]\n",
            "[ 3.         12.33333333 11.33333333 10.        ]\n"
          ]
        }
      ]
    },
    {
      "cell_type": "code",
      "metadata": {
        "colab": {
          "base_uri": "https://localhost:8080/"
        },
        "id": "vndPu5K40aWH",
        "outputId": "ad347300-e370-46b9-d6ce-f10167b4c803"
      },
      "source": [
        "# incorrect solution\n",
        "# this solution is not generally a good choice as it does not generalize to arbitrary matrix sizes\n",
        "\n",
        "avg_x = np.array([np.mean(x[0:3]), np.mean(x[3:6]), np.mean(x[6:9]), np.mean(x[9:12])])\n",
        "print(avg_x)"
      ],
      "execution_count": 94,
      "outputs": [
        {
          "output_type": "stream",
          "name": "stdout",
          "text": [
            "[ 3.         12.33333333 11.33333333 10.        ]\n"
          ]
        }
      ]
    }
  ]
}