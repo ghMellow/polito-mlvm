{
  "cells": [
    {
      "cell_type": "code",
      "execution_count": 2,
      "metadata": {
        "id": "NNqvKLPtgiVh"
      },
      "outputs": [
        {
          "name": "stdout",
          "output_type": "stream",
          "text": [
            "2.3.3\n"
          ]
        }
      ],
      "source": [
        "import numpy as np\n",
        "print(np.__version__)"
      ]
    },
    {
      "cell_type": "markdown",
      "metadata": {
        "id": "CD5WxKAheGux"
      },
      "source": [
        "Numpy provides many functions to **create** arrays\n"
      ]
    },
    {
      "cell_type": "code",
      "execution_count": 3,
      "metadata": {
        "id": "qIjpmiLyeN2r"
      },
      "outputs": [
        {
          "name": "stdout",
          "output_type": "stream",
          "text": [
            "[[0. 0.]\n",
            " [0. 0.]]\n",
            "[[1. 1.]]\n",
            "[[7 7]\n",
            " [7 7]]\n",
            "[[1. 0.]\n",
            " [0. 1.]]\n",
            "[[0.57971889 0.20687025]\n",
            " [0.28347431 0.03244191]]\n"
          ]
        }
      ],
      "source": [
        "a = np.zeros((2,2))   # Create an array of all zeros\n",
        "print(a)              # Prints \"[[ 0.  0.]\n",
        "                      #          [ 0.  0.]]\"\n",
        "\n",
        "b = np.ones((1,2))    # Create an array of all ones\n",
        "print(b)              # Prints \"[[ 1.  1.]]\"\n",
        "\n",
        "c = np.full((2,2), 7)  # Create a constant array\n",
        "print(c)               # Prints \"[[ 7.  7.]\n",
        "                       #          [ 7.  7.]]\"\n",
        "\n",
        "d = np.eye(2)         # Create a 2x2 identity matrix\n",
        "print(d)              # Prints \"[[ 1.  0.]\n",
        "                      #          [ 0.  1.]]\"\n",
        "\n",
        "e = np.random.random((2,2))  # Create an array filled with random values\n",
        "print(e)                     "
      ]
    },
    {
      "cell_type": "markdown",
      "metadata": {
        "id": "_k1xE_86eU0V"
      },
      "source": [
        "\n",
        "**Slicing:** In addition to accessing list elements one at a time, Python provides concise syntax to access sublists; this is known as slicing.\n"
      ]
    },
    {
      "cell_type": "code",
      "execution_count": 4,
      "metadata": {
        "id": "q4_WveyPec6S"
      },
      "outputs": [
        {
          "name": "stdout",
          "output_type": "stream",
          "text": [
            "[0 1 2 3 4]\n",
            "[2 3]\n",
            "[2 3 4]\n",
            "[0 1]\n",
            "[0 1 2 3 4]\n",
            "[0 1 2 3]\n",
            "[0 1 8 9 4]\n",
            "(5,)\n"
          ]
        }
      ],
      "source": [
        "nums = list(range(5))     # range is a built-in function that creates a list of integers\n",
        "nums = np.array(nums)     # convert python list to numpy array\n",
        "print(nums)               # Prints \"[0, 1, 2, 3, 4]\"\n",
        "print(nums[2:4])          # Get a slice from index 2 to 4 (exclusive); prints \"[2, 3]\"\n",
        "print(nums[2:])           # Get a slice from index 2 to the end; prints \"[2, 3, 4]\"\n",
        "print(nums[:2])           # Get a slice from the start to index 2 (exclusive); prints \"[0, 1]\"\n",
        "print(nums[:])            # Get a slice of the whole list; prints \"[0, 1, 2, 3, 4]\"\n",
        "print(nums[:-1])          # Slice indices can be negative; prints \"[0, 1, 2, 3]\"\n",
        "nums[2:4] = [8, 9]        # Create a new sub-array\n",
        "print(nums)  \n",
        "print(nums.shape) "
      ]
    },
    {
      "cell_type": "markdown",
      "metadata": {
        "id": "DNqN07rkd5KM"
      },
      "source": [
        "\n",
        "Let us see some examples of **Matrix** **multiplication**\n"
      ]
    },
    {
      "cell_type": "code",
      "execution_count": 5,
      "metadata": {
        "id": "MXYMUVigdc7B"
      },
      "outputs": [],
      "source": [
        "import time  # import module to calculate execution time\n"
      ]
    },
    {
      "cell_type": "code",
      "execution_count": 7,
      "metadata": {
        "id": "NPqCCIc7PL4G"
      },
      "outputs": [
        {
          "name": "stdout",
          "output_type": "stream",
          "text": [
            "y: 0.6800000000000002 \n",
            "y.shape(): () \n",
            "Execution time with vectorization 6.008148193359375e-05 seconds\n"
          ]
        }
      ],
      "source": [
        "x = np.array([1, 0.01, 0.5, 0.78])\n",
        "w = np.array([1, 2, 3, -3])\n",
        "b = 0.5\n",
        "\n",
        "start_time = time.time()\n",
        "y = np.dot(w, x) + b  # linear regression\n",
        "end_time = time.time()\n",
        "print(\"y: {} \".format(y))\n",
        "print(\"y.shape(): {} \".format(y.shape))\n",
        "\n",
        "vec_time = end_time-start_time\n",
        "print(\"Execution time with vectorization {} seconds\".format(vec_time))"
      ]
    },
    {
      "cell_type": "markdown",
      "metadata": {
        "id": "7IynXQpzd4pP"
      },
      "source": [
        "The same result can be obtained with a less efficient for loop."
      ]
    },
    {
      "cell_type": "code",
      "execution_count": 8,
      "metadata": {
        "id": "mlRc41u4d1Xz"
      },
      "outputs": [
        {
          "name": "stdout",
          "output_type": "stream",
          "text": [
            "2.1799999999999997\n",
            "()\n",
            "Execution time without vectorization 0.00010704994201660156 seconds\n",
            "0.5612472160356348\n"
          ]
        }
      ],
      "source": [
        "start_time = time.time()\n",
        "x_n = x.shape[0]\n",
        "y = 0\n",
        "for i in range(x_n):\n",
        "   y += w[i]*x[i] + b\n",
        "end_time = time.time()\n",
        "\n",
        "print(y)\n",
        "print(y.shape)\n",
        "\n",
        "print(\"Execution time without vectorization {} seconds\".format(end_time-start_time))\n",
        "print(vec_time/(end_time-start_time))   # print the increase in execution time \n",
        "                                        # warning: for small vectors it varies a lot between runs!"
      ]
    },
    {
      "cell_type": "markdown",
      "metadata": {
        "id": "7lfoJd7QfFYY"
      },
      "source": [
        "The matmul function allow to multiply N-Dimensional arrays - the behaviour \n",
        "\n"
      ]
    },
    {
      "cell_type": "code",
      "execution_count": 9,
      "metadata": {
        "id": "bb97wc8iUEvM"
      },
      "outputs": [
        {
          "name": "stdout",
          "output_type": "stream",
          "text": [
            "[[0.97128759 0.73624683 0.54235267]\n",
            " [0.51680016 0.10078186 0.79329108]\n",
            " [0.3028057  0.05563823 0.64583734]\n",
            " [0.55637999 0.19323646 0.49425259]\n",
            " [0.48848117 0.67839405 0.35022448]]\n",
            "[[0.40305553 0.06440383 0.91429906 0.49245079]\n",
            " [0.27852363 0.89950697 0.47465555 0.46058444]\n",
            " [0.29718086 0.18451111 0.12783393 0.09043268]]\n",
            "[[0.75772181 0.82488389 1.30684205 0.86646158]\n",
            " [0.47212022 0.27030891 0.62175608 0.37265664]\n",
            " [0.32947458 0.18871299 0.3858239  0.23314781]\n",
            " [0.42495537 0.30084564 0.66360072 0.40768806]\n",
            " [0.48991382 0.70630055 0.81339195 0.58468242]]\n",
            "(5, 4)\n"
          ]
        }
      ],
      "source": [
        "a = np.random.random_sample(size=(5,3))  # generate random matrix with 5 rows and 3 columns\n",
        "b = np.random.random_sample(size=(3,4))  # generate random matrix with 3 rows and 4 columns\n",
        "\n",
        "print(a)\n",
        "print(b)\n",
        "\n",
        "c = np.matmul(a,b)\n",
        "print(c)\n",
        "print(c.shape)     # prints the shape of the resulting matrix, e.g. (5,4)"
      ]
    },
    {
      "cell_type": "markdown",
      "metadata": {
        "id": "anDNZjvJd2Ou"
      },
      "source": [
        "\n",
        "What happens if the inner dimensions are not compatible?\n"
      ]
    },
    {
      "cell_type": "code",
      "execution_count": 10,
      "metadata": {
        "id": "VErgI9nzfOvG"
      },
      "outputs": [
        {
          "ename": "ValueError",
          "evalue": "matmul: Input operand 1 has a mismatch in its core dimension 0, with gufunc signature (n?,k),(k,m?)->(n?,m?) (size 5 is different from 4)",
          "output_type": "error",
          "traceback": [
            "\u001b[31m---------------------------------------------------------------------------\u001b[39m",
            "\u001b[31mValueError\u001b[39m                                Traceback (most recent call last)",
            "\u001b[36mCell\u001b[39m\u001b[36m \u001b[39m\u001b[32mIn[10]\u001b[39m\u001b[32m, line 1\u001b[39m\n\u001b[32m----> \u001b[39m\u001b[32m1\u001b[39m \u001b[38;5;28mprint\u001b[39m(\u001b[43mnp\u001b[49m\u001b[43m.\u001b[49m\u001b[43mmatmul\u001b[49m\u001b[43m(\u001b[49m\u001b[43mb\u001b[49m\u001b[43m,\u001b[49m\u001b[43m \u001b[49m\u001b[43ma\u001b[49m\u001b[43m)\u001b[49m)\n",
            "\u001b[31mValueError\u001b[39m: matmul: Input operand 1 has a mismatch in its core dimension 0, with gufunc signature (n?,k),(k,m?)->(n?,m?) (size 5 is different from 4)"
          ]
        }
      ],
      "source": [
        "print(np.matmul(b, a))"
      ]
    },
    {
      "cell_type": "markdown",
      "metadata": {
        "id": "zUzs-FmjfdHJ"
      },
      "source": [
        "Let us see another example of how a vectorized implementation is more efficient!\n"
      ]
    },
    {
      "cell_type": "code",
      "execution_count": 11,
      "metadata": {
        "id": "L3WRRwtQfP7j"
      },
      "outputs": [
        {
          "name": "stdout",
          "output_type": "stream",
          "text": [
            "Execution time with vectorization 0.00030517578125 seconds\n",
            "Execution time without vectorization 0.003253936767578125 seconds\n"
          ]
        }
      ],
      "source": [
        "a = np.random.random_sample((5000,))    # generate a large vector\n",
        "\n",
        "# vectorized calculation\n",
        "start_time = time.time()\n",
        "exp_a = np.exp(a)\n",
        "end_time = time.time()\n",
        "print(\"Execution time with vectorization {} seconds\".format(end_time-start_time))\n",
        "\n",
        "start_time = time.time()\n",
        "x_n = a.shape[0]\n",
        "exp_a = np.zeros(a.shape)\n",
        "for i in range(x_n):\n",
        "   exp_a[i] = np.exp(a[i])\n",
        "end_time = time.time()\n",
        "print(\"Execution time without vectorization {} seconds\".format(end_time-start_time))"
      ]
    },
    {
      "cell_type": "markdown",
      "metadata": {
        "id": "M_OZaEyI60wt"
      },
      "source": [
        "---\n",
        "**Exercise 1**\n",
        "\n",
        "\n",
        "Given the amount of Carbs, Proteins, Fats in 100g of different foods, \n",
        "knowing that carbs and proteins provides 4 calories and fats 9 calories,\n",
        "calculate the % of calories from carbs, proteins and fats for each food\n"
      ]
    },
    {
      "cell_type": "code",
      "execution_count": null,
      "metadata": {
        "id": "G1CdeuBA7Bfm"
      },
      "outputs": [
        {
          "data": {
            "text/plain": [
              "array([[27. ,  5.8, 41.5, 18. ],\n",
              "       [ 0.7,  2.5,  8. ,  4. ],\n",
              "       [ 0.2,  0.3,  1.2, 29.5]])"
            ]
          },
          "execution_count": 12,
          "metadata": {},
          "output_type": "execute_result"
        }
      ],
      "source": [
        "grams = np.array([[ 27, 5.8, 41.5, 18.0 ], [ 0.7, 2.5, 8, 4 ],[ 0.2, 0.3, 1.2, 29.5 ]])\n",
        "# righe: feature\n",
        "# colonne: piatto\n",
        "grams"
      ]
    },
    {
      "cell_type": "code",
      "execution_count": 26,
      "metadata": {
        "id": "zXCiHU5B7a9l"
      },
      "outputs": [
        {
          "name": "stdout",
          "output_type": "stream",
          "text": [
            "(1, 3)\n",
            "(3, 1)\n"
          ]
        },
        {
          "data": {
            "text/plain": [
              "array([[4],\n",
              "       [4],\n",
              "       [9]])"
            ]
          },
          "execution_count": 26,
          "metadata": {},
          "output_type": "execute_result"
        }
      ],
      "source": [
        "#insert here the solution\n",
        "\n",
        "#a = [4, 4, 9]\n",
        "#w = np.array([a])\n",
        "w = np.array([[4, 4, 9]])\n",
        "print(w.shape)\n",
        "w = w.T\n",
        "print(w.shape)\n",
        "w\n"
      ]
    },
    {
      "cell_type": "code",
      "execution_count": 28,
      "metadata": {},
      "outputs": [
        {
          "data": {
            "text/plain": [
              "array([[108. ,  23.2, 166. ,  72. ],\n",
              "       [  2.8,  10. ,  32. ,  16. ],\n",
              "       [  1.8,   2.7,  10.8, 265.5]])"
            ]
          },
          "execution_count": 28,
          "metadata": {},
          "output_type": "execute_result"
        }
      ],
      "source": [
        "# converto quantità in calorie\n",
        "\n",
        "# prodotto riga con riga. es: 4 per ogni colonna [27. ,  5.8, 41.5, 18.]\n",
        "cal = grams * w\n",
        "cal "
      ]
    },
    {
      "cell_type": "code",
      "execution_count": null,
      "metadata": {},
      "outputs": [
        {
          "data": {
            "text/plain": [
              "array([[95.91474245, 64.62395543, 79.50191571, 20.36775106],\n",
              "       [ 2.48667851, 27.8551532 , 15.3256705 ,  4.5261669 ],\n",
              "       [ 1.59857904,  7.52089136,  5.17241379, 75.10608204]])"
            ]
          },
          "execution_count": 32,
          "metadata": {},
          "output_type": "execute_result"
        }
      ],
      "source": [
        "# per ogni piatto calorie tot\n",
        "cal_piatto = np.sum(cal, axis=0)\n",
        "# calcolo % di ogni feature rispetto a tot calorie del piatto\n",
        "percentuale = cal / cal_piatto * 100\n",
        "\n",
        "percentuale"
      ]
    },
    {
      "cell_type": "markdown",
      "metadata": {
        "id": "gnIsh0Wp7dhs"
      },
      "source": [
        "---\n",
        "**Exercise 2**\n",
        "\n",
        "Given two 1-D arrays **x** (real values) and **y** (discreet labels), and a constant parameter *m*, implement the following formula:"
      ]
    },
    {
      "cell_type": "markdown",
      "metadata": {
        "id": "OZRiRIL07glM"
      },
      "source": [
        "$z_i = \\bigg \\{ \\begin{matrix} \\parallel x_i \\parallel ^ 2 \\text{  if  } y_i =1 \\\\ \\parallel m - x_i \\parallel ^ 2 \\text{  if  } y_i = 0 \\end{matrix}$"
      ]
    },
    {
      "cell_type": "code",
      "execution_count": 33,
      "metadata": {
        "id": "JhFDaphO7oAz"
      },
      "outputs": [
        {
          "name": "stdout",
          "output_type": "stream",
          "text": [
            "[0.08444168 0.5717077  0.86764178 0.2427889  0.44898618 0.23330771\n",
            " 0.14876752 0.41267104 0.38951113 0.60130308]\n",
            "[0 0 1 1 0 0 0 1 1 0]\n"
          ]
        }
      ],
      "source": [
        "x = np.array([0.08444168, 0.5717077,  0.86764178, 0.2427889,  0.44898618, 0.23330771,\n",
        " 0.14876752, 0.41267104, 0.38951113, 0.60130308])\n",
        "print(x)\n",
        "y = np.array([0, 0, 1, 1, 0, 0, 0, 1, 1, 0])\n",
        "print(y)\n"
      ]
    },
    {
      "cell_type": "code",
      "execution_count": 41,
      "metadata": {
        "id": "tcfCbuwK7_yC"
      },
      "outputs": [
        {
          "name": "stdout",
          "output_type": "stream",
          "text": [
            "[0.         0.         0.75280226 0.05894645 0.         0.\n",
            " 0.         0.17029739 0.15171892 0.        ]\n",
            "[0.01335373 0.13816661 0.         0.         0.06199412 0.0011094\n",
            " 0.00262477 0.         0.         0.16104416]\n"
          ]
        },
        {
          "data": {
            "text/plain": [
              "array([0.01335373, 0.13816661, 0.75280226, 0.05894645, 0.06199412,\n",
              "       0.0011094 , 0.00262477, 0.17029739, 0.15171892, 0.16104416])"
            ]
          },
          "execution_count": 41,
          "metadata": {},
          "output_type": "execute_result"
        }
      ],
      "source": [
        "# insert here the solution\n",
        "\n",
        "m = 0.2 # constant parameter\n",
        "\n",
        "# ragionamento quello di avere due X diversi in cui in uno tengo le y=0 mentre l'altro ragionamento opposto 1-y \n",
        "# e infine di sommare le due in modo da ottenere z\n",
        "\n",
        "z1 = x * y # tengo solo le x dove ho y = 1\n",
        "z1 = np.square(z1)\n",
        "print(z1)\n",
        "\n",
        "z2 = (m - x) * (1-y)\n",
        "z2 = np.square(z2)\n",
        "print(z2)\n",
        "\n",
        "z = z1 + z2\n",
        "z"
      ]
    },
    {
      "cell_type": "code",
      "execution_count": 42,
      "metadata": {},
      "outputs": [
        {
          "name": "stdout",
          "output_type": "stream",
          "text": [
            "[0.01335373 0.13816661 0.75280226 0.05894645 0.06199412 0.0011094\n",
            " 0.00262477 0.17029739 0.15171892 0.16104416]\n"
          ]
        }
      ],
      "source": [
        "# insert here the solution\n",
        "m = 0.2\n",
        "a = x * x                        \n",
        "b = (m - x) * (m -x)             # broadcasting will expand m to the same size of x\n",
        "\n",
        "z = y * a + (1 - y) * b          # observe that for any given binary y, only one term is non-zero\n",
        "                                 # e.g. z will be equal to a if y == 1 and viceversa\n",
        "print(z)"
      ]
    },
    {
      "cell_type": "markdown",
      "metadata": {
        "id": "aZLjiPy57m0B"
      },
      "source": [
        "---\n",
        "**Exercise 3**\n",
        "\n",
        "Given a matrix x of size M by N, where M is the number of samples and N is the number of features, write a vectorized expression to perform min-max scaling:\n",
        "𝑥′=  (𝑥  − min⁡(𝑥))/(max⁡(𝑥)−min⁡(𝑥))\n",
        "\n"
      ]
    },
    {
      "cell_type": "code",
      "execution_count": 52,
      "metadata": {},
      "outputs": [
        {
          "name": "stdout",
          "output_type": "stream",
          "text": [
            "[[0.21487119 0.85760805]\n",
            " [0.03689141 0.73459284]\n",
            " [0.22183039 0.15010387]]\n"
          ]
        }
      ],
      "source": [
        "M = 3\n",
        "N = 2\n",
        "X = np.random.random((M, N))\n",
        "print(X)"
      ]
    },
    {
      "cell_type": "code",
      "execution_count": 55,
      "metadata": {
        "id": "8rVVP1DziTRt"
      },
      "outputs": [
        {
          "name": "stdout",
          "output_type": "stream",
          "text": [
            "[[0.21685898 1.        ]\n",
            " [0.         0.85011245]\n",
            " [0.22533841 0.13794342]]\n",
            "[0.22533841 1.        ]\n",
            "[0.         0.13794342]\n"
          ]
        }
      ],
      "source": [
        "# SBAGLIAO: STIAMO NORMALIZZANDO non ha senso prendere della matrice intera dove ho feature diverse, \n",
        "#           la normalizzazione avviene per ogni campione, ergo min max per ogni sua feature\n",
        "X_vectorized = (X - np.min(X)) / (np.max(X) - np.min(X))\n",
        "print(X_vectorized)\n",
        "\n",
        "print(np.max(X_vectorized, axis=0) )     # sanity check: after rescaling the range of each feature should be 0-1\n",
        "print(np.min(X_vectorized, axis=0) )"
      ]
    },
    {
      "cell_type": "code",
      "execution_count": 56,
      "metadata": {},
      "outputs": [
        {
          "name": "stdout",
          "output_type": "stream",
          "text": [
            "[[0.96237027 1.        ]\n",
            " [0.         0.82612794]\n",
            " [1.         0.        ]]\n",
            "[1. 1.]\n",
            "[0. 0.]\n"
          ]
        }
      ],
      "source": [
        "# Sol Corretta\n",
        "X_vectorized = (X - np.min(X, axis=0)) / (np.max(X, axis=0) - np.min(X, axis=0))\n",
        "print(X_vectorized)\n",
        "\n",
        "print(np.max(X_vectorized, axis=0) )     # sanity check: after rescaling the range of each feature should be 0-1\n",
        "print(np.min(X_vectorized, axis=0) )"
      ]
    },
    {
      "cell_type": "markdown",
      "metadata": {},
      "source": [
        "**Aggiunta di keepdim**\n",
        "\n",
        "In sintesi:\n",
        "- keepdims=False (default): riduce le dimensioni → (3, 4) → (3,)\n",
        "- keepdims=True: mantiene le dimensioni → (3, 4) → (3, 1)\n",
        "\n",
        "Serve per fare broadcasting pulito e prevedibile! 🎯"
      ]
    },
    {
      "cell_type": "code",
      "execution_count": 58,
      "metadata": {},
      "outputs": [
        {
          "name": "stdout",
          "output_type": "stream",
          "text": [
            "(3, 2)\n",
            "[0. 1.]\n"
          ]
        }
      ],
      "source": [
        "#different (BUT NOT EQUIVALENT) solution: sum along the second axis (axis = 1)\n",
        "# in this vector, each feature vector is rescaled between 0 and 1, e.g.: \n",
        "# features with large values are pushed towards 1, features with small values are pushed towards 0\n",
        "# in the correct solution, each feature is rescaled between 0 and 1 INDEPENDENTLY\n",
        "np.min(X, axis=1, keepdims=True)\n",
        "x_scaled = (X - np.min(X, axis=1, keepdims=True))/(np.max(X, axis=1, keepdims=True) - np.min(X, axis=1, keepdims=True))\n",
        "print(x_scaled.shape)\n",
        "print(x_scaled[0,:])   # notice how the recaled vector differs from the correct solution"
      ]
    },
    {
      "cell_type": "markdown",
      "metadata": {
        "id": "EImv8YI_h_ZJ"
      },
      "source": [
        "---\n",
        "**Exercise 4**\n",
        "\n",
        "\n",
        "Given a 1D array, calculate the average of each consecutive triplet\n"
      ]
    },
    {
      "cell_type": "code",
      "execution_count": null,
      "metadata": {
        "id": "JFDqS71nigjm"
      },
      "outputs": [
        {
          "name": "stdout",
          "output_type": "stream",
          "text": [
            "(9,)\n",
            "3\n",
            "(3, 3)\n",
            "[[ 1  3  5]\n",
            " [10 15 12]\n",
            " [23  5  6]]\n",
            "[ 3.         12.33333333 11.33333333]\n"
          ]
        }
      ],
      "source": [
        "x = np.array([1, 3, 5, 10, 15, 12, 23, 5, 6]) # vettore perciò shape restituisce (#, ) ossia num elementi lista\n",
        "\n",
        "# insert here the solution\n",
        "x_shape = x.shape # tupla contente info (R, C)\n",
        "print(x_shape)\n",
        "if x.shape[0] % 3 != 0:\n",
        "  print(\"The lenght of the array must be multiple of 3!\") # alternatively, we could pad the array with 0\n",
        "else:\n",
        "  no_triplets =  x.shape[0] // 3 # calculate the number of triplets\n",
        "  print(no_triplets)\n",
        "\n",
        "  new_shape = (no_triplets , 3) # tupla\n",
        "  print(new_shape)\n",
        "\n",
        "  x_reshaped = x.reshape(new_shape) # eq np: x_reshaped = np.reshape(x, new_shape) \n",
        "  print(x_reshaped)\n",
        "\n",
        "  x_reshaped_mean = np.mean(x_reshaped, axis=1) # calculate the sum of each triplet (row)\n",
        "  print(x_reshaped_mean)\n",
        "  "
      ]
    }
  ],
  "metadata": {
    "colab": {
      "collapsed_sections": [],
      "provenance": []
    },
    "kernelspec": {
      "display_name": "lab1-L4vtdFOp-py3.12",
      "language": "python",
      "name": "python3"
    },
    "language_info": {
      "codemirror_mode": {
        "name": "ipython",
        "version": 3
      },
      "file_extension": ".py",
      "mimetype": "text/x-python",
      "name": "python",
      "nbconvert_exporter": "python",
      "pygments_lexer": "ipython3",
      "version": "3.12.6"
    }
  },
  "nbformat": 4,
  "nbformat_minor": 0
}
