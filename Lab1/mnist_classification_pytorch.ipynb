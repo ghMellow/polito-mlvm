{
  "nbformat": 4,
  "nbformat_minor": 0,
  "metadata": {
    "colab": {
      "provenance": [],
      "gpuType": "T4"
    },
    "kernelspec": {
      "name": "python3",
      "display_name": "Python 3"
    },
    "language_info": {
      "name": "python"
    },
    "accelerator": "GPU"
  },
  "cells": [
    {
      "cell_type": "markdown",
      "source": [
        "# MNIST Classification"
      ],
      "metadata": {
        "id": "3iBLIGYhsQPS"
      }
    },
    {
      "cell_type": "markdown",
      "source": [
        "**Import packages**"
      ],
      "metadata": {
        "id": "TyHNIz6QsURr"
      }
    },
    {
      "cell_type": "code",
      "execution_count": 1,
      "metadata": {
        "id": "0xm3t7q504v8"
      },
      "outputs": [],
      "source": [
        "import argparse\n",
        "import torch\n",
        "import torch.nn as nn\n",
        "import torch.nn.functional as F\n",
        "import torch.optim as optim\n",
        "from torchvision import datasets, transforms"
      ]
    },
    {
      "cell_type": "markdown",
      "source": [
        "## Define a fully connected Neural Network\n",
        "We define a very simple fully connected neural network. It is a subclass of torch.nn.Module. <br>\n",
        "When extending torch.nn.Module we need to define two methods:\n",
        "- `__init__` method:\n",
        "it is the constructor of the class and is called only once, when instantiating the neural network. It initializes the network's architecture by initializing all network layers and other components. It is where you define the structure of the network, such as layers, activation functions, and any other components required for computation.\n",
        "-`forward` method\n",
        "is called when you pass input data through the network. The forward method specifies the sequence of operations that are applied to the input data. It describes how the input data flow through the various layers to produce the final output."
      ],
      "metadata": {
        "id": "Pb5ErZdMsfzX"
      }
    },
    {
      "cell_type": "code",
      "source": [
        "# define neural network\n",
        "class NeuralNetwork(nn.Module):\n",
        "    def __init__(self, num_classes):\n",
        "        super().__init__()\n",
        "        self.flatten = nn.Flatten()\n",
        "\n",
        "        self.lin1 = nn.Linear(28*28, 512)\n",
        "        self.act1 = nn.ReLU()\n",
        "\n",
        "        self.lin2 = nn.Linear(512, 512)\n",
        "        self.act2 = nn.ReLU()\n",
        "\n",
        "        self.output_layer = nn.Linear(512, num_classes)\n",
        "\n",
        "    def forward(self, x):\n",
        "        x = self.flatten(x)  # (batch_size, 28, 28) => (batch_size, 28*28)\n",
        "\n",
        "        # first layer (input is x, output is x1)\n",
        "        x1 = self.lin1(x)\n",
        "        x1 = self.act1(x1)\n",
        "\n",
        "        # second layer (input is x1, output is x2)\n",
        "        x2 = self.lin2(x1)\n",
        "        x2 = self.act2(x2)\n",
        "\n",
        "        # third/output layer (input is x2, output is logits)\n",
        "        logits = self.output_layer(x2)\n",
        "        return logits\n"
      ],
      "metadata": {
        "id": "YXxGAM0H35lj"
      },
      "execution_count": 2,
      "outputs": []
    },
    {
      "cell_type": "markdown",
      "source": [
        "## Dataset"
      ],
      "metadata": {
        "id": "qhJqY-ZJQaHO"
      }
    },
    {
      "cell_type": "code",
      "source": [
        "from torchvision import datasets, transforms\n",
        "\n",
        "# preprocessing to apply on each data sample:\n",
        "# 1) convert to tensor\n",
        "# 2) normalize images\n",
        "transform=transforms.Compose([\n",
        "        transforms.ToTensor(),\n",
        "        transforms.Normalize(mean=(0.1307,), std=(0.3081,))  # Normalize a tensor image with mean and standard deviation.\n",
        "        ])\n",
        "\n",
        "# train dataset\n",
        "train_dataset = datasets.MNIST('../data', train=True, download=True, transform=transform)\n",
        "print(f\"MNIST train dataset - num samples: {len(train_dataset)}\")\n",
        "\n",
        "# test dataset\n",
        "test_dataset = datasets.MNIST('../data', train=False, transform=transform)\n",
        "print(f\"MNIST test dataset - num samples: {len(test_dataset)}\")"
      ],
      "metadata": {
        "colab": {
          "base_uri": "https://localhost:8080/"
        },
        "id": "X1bZT80E4gdY",
        "outputId": "ca95e117-f8c5-4ed8-d78b-fd5e210fed23"
      },
      "execution_count": 3,
      "outputs": [
        {
          "output_type": "stream",
          "name": "stdout",
          "text": [
            "Downloading http://yann.lecun.com/exdb/mnist/train-images-idx3-ubyte.gz\n",
            "Downloading http://yann.lecun.com/exdb/mnist/train-images-idx3-ubyte.gz to ../data/MNIST/raw/train-images-idx3-ubyte.gz\n"
          ]
        },
        {
          "output_type": "stream",
          "name": "stderr",
          "text": [
            "100%|██████████| 9912422/9912422 [00:00<00:00, 219574174.63it/s]"
          ]
        },
        {
          "output_type": "stream",
          "name": "stdout",
          "text": [
            "Extracting ../data/MNIST/raw/train-images-idx3-ubyte.gz to ../data/MNIST/raw\n"
          ]
        },
        {
          "output_type": "stream",
          "name": "stderr",
          "text": [
            "\n"
          ]
        },
        {
          "output_type": "stream",
          "name": "stdout",
          "text": [
            "\n",
            "Downloading http://yann.lecun.com/exdb/mnist/train-labels-idx1-ubyte.gz\n",
            "Downloading http://yann.lecun.com/exdb/mnist/train-labels-idx1-ubyte.gz to ../data/MNIST/raw/train-labels-idx1-ubyte.gz\n"
          ]
        },
        {
          "output_type": "stream",
          "name": "stderr",
          "text": [
            "100%|██████████| 28881/28881 [00:00<00:00, 62473282.01it/s]\n"
          ]
        },
        {
          "output_type": "stream",
          "name": "stdout",
          "text": [
            "Extracting ../data/MNIST/raw/train-labels-idx1-ubyte.gz to ../data/MNIST/raw\n",
            "\n",
            "Downloading http://yann.lecun.com/exdb/mnist/t10k-images-idx3-ubyte.gz\n",
            "Downloading http://yann.lecun.com/exdb/mnist/t10k-images-idx3-ubyte.gz to ../data/MNIST/raw/t10k-images-idx3-ubyte.gz\n"
          ]
        },
        {
          "output_type": "stream",
          "name": "stderr",
          "text": [
            "100%|██████████| 1648877/1648877 [00:00<00:00, 44647458.98it/s]"
          ]
        },
        {
          "output_type": "stream",
          "name": "stdout",
          "text": [
            "Extracting ../data/MNIST/raw/t10k-images-idx3-ubyte.gz to ../data/MNIST/raw\n"
          ]
        },
        {
          "output_type": "stream",
          "name": "stderr",
          "text": [
            "\n"
          ]
        },
        {
          "output_type": "stream",
          "name": "stdout",
          "text": [
            "\n",
            "Downloading http://yann.lecun.com/exdb/mnist/t10k-labels-idx1-ubyte.gz\n",
            "Downloading http://yann.lecun.com/exdb/mnist/t10k-labels-idx1-ubyte.gz to ../data/MNIST/raw/t10k-labels-idx1-ubyte.gz\n"
          ]
        },
        {
          "output_type": "stream",
          "name": "stderr",
          "text": [
            "100%|██████████| 4542/4542 [00:00<00:00, 21285507.00it/s]\n"
          ]
        },
        {
          "output_type": "stream",
          "name": "stdout",
          "text": [
            "Extracting ../data/MNIST/raw/t10k-labels-idx1-ubyte.gz to ../data/MNIST/raw\n",
            "\n",
            "MNIST train dataset - num samples: 60000\n",
            "MNIST test dataset - num samples: 10000\n"
          ]
        }
      ]
    },
    {
      "cell_type": "markdown",
      "source": [
        "### Plot one sample from dataset"
      ],
      "metadata": {
        "id": "bHPV6AlpCemt"
      }
    },
    {
      "cell_type": "code",
      "source": [
        "image, label = train_dataset[100]"
      ],
      "metadata": {
        "id": "-plmwVVLH6li"
      },
      "execution_count": 4,
      "outputs": []
    },
    {
      "cell_type": "code",
      "source": [
        "image.shape"
      ],
      "metadata": {
        "colab": {
          "base_uri": "https://localhost:8080/"
        },
        "id": "Qct8Yib_IKo6",
        "outputId": "13fd26c7-9c5f-48d1-f2c0-0a48bdce8f89"
      },
      "execution_count": 5,
      "outputs": [
        {
          "output_type": "execute_result",
          "data": {
            "text/plain": [
              "torch.Size([1, 28, 28])"
            ]
          },
          "metadata": {},
          "execution_count": 5
        }
      ]
    },
    {
      "cell_type": "code",
      "source": [
        "label"
      ],
      "metadata": {
        "colab": {
          "base_uri": "https://localhost:8080/"
        },
        "id": "dHIdA_3oITeR",
        "outputId": "175aa773-53fc-46aa-957c-ac5809928756"
      },
      "execution_count": 6,
      "outputs": [
        {
          "output_type": "execute_result",
          "data": {
            "text/plain": [
              "5"
            ]
          },
          "metadata": {},
          "execution_count": 6
        }
      ]
    },
    {
      "cell_type": "code",
      "source": [
        "# dataset returns one sample at a time\n",
        "# In our case one sample corresponds to a Tuple: (Image, Target Label)\n",
        "# Image is a tensor with shape [1, 28, 28]\n",
        "# Label is an integer representing the class of the image\n",
        "\n",
        "print(type(train_dataset[100]))\n",
        "print(len(train_dataset[100]))\n",
        "\n",
        "image, label = train_dataset[100]\n",
        "print(\"image: \", image.shape, type(image))\n",
        "print(\"label: \", label, type(label))"
      ],
      "metadata": {
        "colab": {
          "base_uri": "https://localhost:8080/"
        },
        "id": "KWOVzrKN56Id",
        "outputId": "f01025e8-c9ad-47b5-ce36-a63ec4cf71ba"
      },
      "execution_count": 7,
      "outputs": [
        {
          "output_type": "stream",
          "name": "stdout",
          "text": [
            "<class 'tuple'>\n",
            "2\n",
            "image:  torch.Size([1, 28, 28]) <class 'torch.Tensor'>\n",
            "label:  5 <class 'int'>\n"
          ]
        }
      ]
    },
    {
      "cell_type": "code",
      "source": [
        "image.shape"
      ],
      "metadata": {
        "colab": {
          "base_uri": "https://localhost:8080/"
        },
        "id": "VglQ4o-OI2PM",
        "outputId": "ea3a617b-337b-45ea-fbaf-6f36661c56dd"
      },
      "execution_count": 8,
      "outputs": [
        {
          "output_type": "execute_result",
          "data": {
            "text/plain": [
              "torch.Size([1, 28, 28])"
            ]
          },
          "metadata": {},
          "execution_count": 8
        }
      ]
    },
    {
      "cell_type": "code",
      "source": [
        "image[0].shape"
      ],
      "metadata": {
        "colab": {
          "base_uri": "https://localhost:8080/"
        },
        "id": "6eYKl3xNI5NH",
        "outputId": "30bb7cbd-607a-419a-e1dd-6323618739b1"
      },
      "execution_count": 9,
      "outputs": [
        {
          "output_type": "execute_result",
          "data": {
            "text/plain": [
              "torch.Size([28, 28])"
            ]
          },
          "metadata": {},
          "execution_count": 9
        }
      ]
    },
    {
      "cell_type": "code",
      "source": [
        "image = image.view(28,28)\n",
        "image.shape"
      ],
      "metadata": {
        "colab": {
          "base_uri": "https://localhost:8080/"
        },
        "id": "G1eqKWkgI9GR",
        "outputId": "c1a071d4-d2e6-4db2-d6b3-7ac8cd936996"
      },
      "execution_count": 10,
      "outputs": [
        {
          "output_type": "execute_result",
          "data": {
            "text/plain": [
              "torch.Size([28, 28])"
            ]
          },
          "metadata": {},
          "execution_count": 10
        }
      ]
    },
    {
      "cell_type": "code",
      "source": [
        "# plot one sample normalized\n",
        "\n",
        "import matplotlib.pyplot as plt\n",
        "plt.imshow(image.numpy())  # numpy array 28x28"
      ],
      "metadata": {
        "colab": {
          "base_uri": "https://localhost:8080/",
          "height": 447
        },
        "id": "_JAtWFQkR_0Y",
        "outputId": "f1da70ee-c0b9-4ae5-ee5c-96b70421da69"
      },
      "execution_count": 11,
      "outputs": [
        {
          "output_type": "execute_result",
          "data": {
            "text/plain": [
              "<matplotlib.image.AxesImage at 0x7db577bf7400>"
            ]
          },
          "metadata": {},
          "execution_count": 11
        },
        {
          "output_type": "display_data",
          "data": {
            "text/plain": [
              "<Figure size 640x480 with 1 Axes>"
            ],
            "image/png": "[encoded data removed]"
          },
          "metadata": {}
        }
      ]
    },
    {
      "cell_type": "markdown",
      "source": [
        "## Dataloader\n",
        "Dataloader reads from the dataset and returns batches of data. We need to specify at least:\n",
        "- `dataset`: torch.utils.data.Dataset object from which the DataLoader fetch data\n",
        "- `batch_size`: number of sample in a batch, e.g. 128, choose the maximum that the GPU can fit\n",
        "\n",
        "Other parameters are:\n",
        "- `shuffle`: boolean, whether we want to shuffle the data samples\n",
        "- `drop_last`: boolean, whether the last batch, which may have fewer samples than the specified batch size, should be included or dropped\n",
        "\n"
      ],
      "metadata": {
        "id": "iSqvt0wTYB9C"
      }
    },
    {
      "cell_type": "code",
      "source": [
        "batch_size = 128  # we define here the batch size: number of samples processed before the model is updated\n",
        "train_loader = torch.utils.data.DataLoader(train_dataset, batch_size=batch_size, shuffle=True) #, drop_last=True)\n",
        "test_loader = torch.utils.data.DataLoader(test_dataset, batch_size=batch_size, shuffle=False) # , drop_last=False)\n",
        "print(f\"batch size: {batch_size}\")"
      ],
      "metadata": {
        "id": "5Rjxpi3J42oR",
        "colab": {
          "base_uri": "https://localhost:8080/"
        },
        "outputId": "a2714e21-c703-488f-f957-4a43aa0e8729"
      },
      "execution_count": 12,
      "outputs": [
        {
          "output_type": "stream",
          "name": "stdout",
          "text": [
            "batch size: 128\n"
          ]
        }
      ]
    },
    {
      "cell_type": "markdown",
      "source": [
        "## Training"
      ],
      "metadata": {
        "id": "kP8VtriNSMFT"
      }
    },
    {
      "cell_type": "code",
      "source": [
        "# function for training\n",
        "def train(model, device, train_loader, optimizer, epoch):\n",
        "    model.train()  # model to train mode\n",
        "\n",
        "    # ITERATE DATALOADER: train_loader\n",
        "    for batch_idx, (data, target) in enumerate(train_loader):\n",
        "        #  SINGLE OPTIMIZATION STEP IS PERFORMED ON A BATCH!\n",
        "        data, target = data.to(device), target.to(device)\n",
        "\n",
        "        optimizer.zero_grad()\n",
        "\n",
        "        output = model(data)\n",
        "\n",
        "        loss = F.cross_entropy(output, target)\n",
        "\n",
        "        loss.backward()\n",
        "\n",
        "        optimizer.step()\n",
        "\n",
        "        if batch_idx % 50 == 0:\n",
        "            print('Train Epoch: {} [{}/{} ({:.0f}%)]\\tLoss: {:.6f}'.format(\n",
        "                epoch, batch_idx * len(data), len(train_loader.dataset),\n",
        "                100. * batch_idx / len(train_loader), loss.item()))\n",
        "\n",
        "\n",
        "# test\n",
        "# function for evaluation\n",
        "def test(model, device, test_loader):\n",
        "    model.eval()  # model to eval\n",
        "    test_loss = 0\n",
        "    correct = 0\n",
        "\n",
        "    # ITERATE DATALOADER: test_loader\n",
        "    for data, target in test_loader:\n",
        "        batch_size = data.shape[0]\n",
        "        data, target = data.to(device), target.to(device)\n",
        "        output = model(data)\n",
        "        test_loss += F.cross_entropy(output, target, reduction='sum').item()  # sum up batch loss\n",
        "\n",
        "        pred = output.argmax(dim=1, keepdim=True)  # get the index of the max log-probability\n",
        "\n",
        "        # sanity check\n",
        "        pred = pred.view(batch_size)  # [bs,]\n",
        "        target = target.view(batch_size)  # [bs,]\n",
        "\n",
        "        # compute prediction ok\n",
        "        batch_pred_ok = pred.eq(target).sum().item()\n",
        "        correct += batch_pred_ok\n",
        "\n",
        "    test_loss /= len(test_loader.dataset)\n",
        "    num_samples = len(test_loader.dataset)\n",
        "    test_accuracy = correct / num_samples\n",
        "    print('\\nTest set: Average loss: {:.4f}, Accuracy: {}/{} ({:.0f}%)\\n'.format(\n",
        "        test_loss, correct, len(test_loader.dataset),\n",
        "        100. * correct / len(test_loader.dataset)))"
      ],
      "metadata": {
        "id": "3HlkzQx64GZW"
      },
      "execution_count": 13,
      "outputs": []
    },
    {
      "cell_type": "code",
      "source": [
        "device = torch.device('cuda')  # use gpu, is equivalent to .cuda()\n",
        "\n",
        "# training hyperparameters\n",
        "lr = 0.01\n",
        "num_epochs = 5\n",
        "print(f\"lr: {lr}\")\n",
        "print(f\"batch size: {batch_size}\")\n",
        "print(f\"Num. optimization steps per-epoch: {int(len(train_dataset)/batch_size)}\")\n",
        "\n",
        "#########\n",
        "# MODEL #\n",
        "#########\n",
        "model = NeuralNetwork(num_classes=10)\n",
        "model = model.to(device)\n",
        "\n",
        "#############\n",
        "# OPTIMIZER #\n",
        "#############\n",
        "parameters_to_optimize = model.parameters()\n",
        "optimizer = optim.SGD(parameters_to_optimize, lr=lr, momentum=0.9)"
      ],
      "metadata": {
        "colab": {
          "base_uri": "https://localhost:8080/"
        },
        "id": "D609MxPV7gvZ",
        "outputId": "8a71e5e8-6063-4ff2-9176-db63e10ffc4b"
      },
      "execution_count": 14,
      "outputs": [
        {
          "output_type": "stream",
          "name": "stdout",
          "text": [
            "lr: 0.01\n",
            "batch size: 128\n",
            "Num. optimization steps per-epoch: 468\n"
          ]
        }
      ]
    },
    {
      "cell_type": "code",
      "source": [
        "%%time\n",
        "for epoch in range(1, num_epochs + 1):\n",
        "  train(model, device, train_loader, optimizer, epoch)\n",
        "  test(model, device, test_loader)"
      ],
      "metadata": {
        "colab": {
          "base_uri": "https://localhost:8080/"
        },
        "id": "ZQ7HhNC7S8Ny",
        "outputId": "e54b213f-fdfc-4004-a875-7d0f2540761e"
      },
      "execution_count": 15,
      "outputs": [
        {
          "output_type": "stream",
          "name": "stdout",
          "text": [
            "Train Epoch: 1 [0/60000 (0%)]\tLoss: 2.304910\n",
            "Train Epoch: 1 [6400/60000 (11%)]\tLoss: 0.496038\n",
            "Train Epoch: 1 [12800/60000 (21%)]\tLoss: 0.503941\n",
            "Train Epoch: 1 [19200/60000 (32%)]\tLoss: 0.367268\n",
            "Train Epoch: 1 [25600/60000 (43%)]\tLoss: 0.298520\n",
            "Train Epoch: 1 [32000/60000 (53%)]\tLoss: 0.280180\n",
            "Train Epoch: 1 [38400/60000 (64%)]\tLoss: 0.162909\n",
            "Train Epoch: 1 [44800/60000 (75%)]\tLoss: 0.320560\n",
            "Train Epoch: 1 [51200/60000 (85%)]\tLoss: 0.268460\n",
            "Train Epoch: 1 [57600/60000 (96%)]\tLoss: 0.163087\n",
            "\n",
            "Test set: Average loss: 0.1778, Accuracy: 9465/10000 (95%)\n",
            "\n",
            "Train Epoch: 2 [0/60000 (0%)]\tLoss: 0.309839\n",
            "Train Epoch: 2 [6400/60000 (11%)]\tLoss: 0.202926\n",
            "Train Epoch: 2 [12800/60000 (21%)]\tLoss: 0.139450\n",
            "Train Epoch: 2 [19200/60000 (32%)]\tLoss: 0.116399\n",
            "Train Epoch: 2 [25600/60000 (43%)]\tLoss: 0.203200\n",
            "Train Epoch: 2 [32000/60000 (53%)]\tLoss: 0.136178\n",
            "Train Epoch: 2 [38400/60000 (64%)]\tLoss: 0.149274\n",
            "Train Epoch: 2 [44800/60000 (75%)]\tLoss: 0.237649\n",
            "Train Epoch: 2 [51200/60000 (85%)]\tLoss: 0.043020\n",
            "Train Epoch: 2 [57600/60000 (96%)]\tLoss: 0.087739\n",
            "\n",
            "Test set: Average loss: 0.1074, Accuracy: 9660/10000 (97%)\n",
            "\n",
            "Train Epoch: 3 [0/60000 (0%)]\tLoss: 0.085218\n",
            "Train Epoch: 3 [6400/60000 (11%)]\tLoss: 0.111103\n",
            "Train Epoch: 3 [12800/60000 (21%)]\tLoss: 0.128741\n",
            "Train Epoch: 3 [19200/60000 (32%)]\tLoss: 0.050657\n",
            "Train Epoch: 3 [25600/60000 (43%)]\tLoss: 0.040385\n",
            "Train Epoch: 3 [32000/60000 (53%)]\tLoss: 0.142044\n",
            "Train Epoch: 3 [38400/60000 (64%)]\tLoss: 0.041928\n",
            "Train Epoch: 3 [44800/60000 (75%)]\tLoss: 0.105052\n",
            "Train Epoch: 3 [51200/60000 (85%)]\tLoss: 0.038681\n",
            "Train Epoch: 3 [57600/60000 (96%)]\tLoss: 0.060147\n",
            "\n",
            "Test set: Average loss: 0.0863, Accuracy: 9724/10000 (97%)\n",
            "\n",
            "Train Epoch: 4 [0/60000 (0%)]\tLoss: 0.098391\n",
            "Train Epoch: 4 [6400/60000 (11%)]\tLoss: 0.059577\n",
            "Train Epoch: 4 [12800/60000 (21%)]\tLoss: 0.051766\n",
            "Train Epoch: 4 [19200/60000 (32%)]\tLoss: 0.092834\n",
            "Train Epoch: 4 [25600/60000 (43%)]\tLoss: 0.043080\n",
            "Train Epoch: 4 [32000/60000 (53%)]\tLoss: 0.038009\n",
            "Train Epoch: 4 [38400/60000 (64%)]\tLoss: 0.078497\n",
            "Train Epoch: 4 [44800/60000 (75%)]\tLoss: 0.122202\n",
            "Train Epoch: 4 [51200/60000 (85%)]\tLoss: 0.157083\n",
            "Train Epoch: 4 [57600/60000 (96%)]\tLoss: 0.110728\n",
            "\n",
            "Test set: Average loss: 0.0746, Accuracy: 9758/10000 (98%)\n",
            "\n",
            "Train Epoch: 5 [0/60000 (0%)]\tLoss: 0.041813\n",
            "Train Epoch: 5 [6400/60000 (11%)]\tLoss: 0.049383\n",
            "Train Epoch: 5 [12800/60000 (21%)]\tLoss: 0.052827\n",
            "Train Epoch: 5 [19200/60000 (32%)]\tLoss: 0.037612\n",
            "Train Epoch: 5 [25600/60000 (43%)]\tLoss: 0.070825\n",
            "Train Epoch: 5 [32000/60000 (53%)]\tLoss: 0.069886\n",
            "Train Epoch: 5 [38400/60000 (64%)]\tLoss: 0.023421\n",
            "Train Epoch: 5 [44800/60000 (75%)]\tLoss: 0.084906\n",
            "Train Epoch: 5 [51200/60000 (85%)]\tLoss: 0.082661\n",
            "Train Epoch: 5 [57600/60000 (96%)]\tLoss: 0.037020\n",
            "\n",
            "Test set: Average loss: 0.0687, Accuracy: 9775/10000 (98%)\n",
            "\n",
            "CPU times: user 1min 14s, sys: 432 ms, total: 1min 15s\n",
            "Wall time: 1min 21s\n"
          ]
        }
      ]
    }
  ]
}